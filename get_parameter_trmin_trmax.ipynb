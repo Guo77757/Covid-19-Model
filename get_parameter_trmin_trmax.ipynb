{
 "cells": [
  {
   "cell_type": "code",
   "execution_count": 1,
   "metadata": {},
   "outputs": [],
   "source": [
    "import numpy as np\n",
    "import pandas as pd\n",
    "import matplotlib.pyplot as plt"
   ]
  },
  {
   "cell_type": "code",
   "execution_count": 2,
   "metadata": {},
   "outputs": [],
   "source": [
    "#we have data of:\n",
    "# -Deaths\n",
    "# -Confirmed\n",
    "# -Oficial Infected\n",
    "# \n",
    "# Real Infected = Official Infected * 1/prob(prob_going_hospital)\n",
    "# \n",
    "# Confirmed = Official Infected + Recovered + Death\n",
    "# Oficial Recovered = Confirmed - Infected - Deaths\n",
    "# Subsceptible = N - Real Infected - Recovery - Death"
   ]
  },
  {
   "cell_type": "code",
   "execution_count": 3,
   "metadata": {},
   "outputs": [],
   "source": [
    "#probability to go to the hospital and make the test in the initial dates in Spain\n",
    "prob_going_hospital = 0.05 #segun Timothy Russell"
   ]
  },
  {
   "cell_type": "code",
   "execution_count": 4,
   "metadata": {},
   "outputs": [],
   "source": [
    "df_recovered = pd.read_csv('database/time_series_covid19_recovered_global.csv')\n",
    "df_death = pd.read_csv('database/time_series_covid19_deaths_global.csv')\n",
    "df_confirmed = pd.read_csv('database/time_series_covid19_confirmed_global.csv')"
   ]
  },
  {
   "cell_type": "code",
   "execution_count": 5,
   "metadata": {},
   "outputs": [],
   "source": [
    "def get_tr(dS,I,S):\n",
    "    \"\"\"\n",
    "    from SIR model, ds/dt = - tr * I * S\n",
    "    tr = -(dS/dt) / (I*S)\n",
    "    \"\"\"\n",
    "    return -ds/(I*S)"
   ]
  },
  {
   "cell_type": "markdown",
   "metadata": {},
   "source": [
    "# Calculating TR before quarantine in Spain, trmax"
   ]
  },
  {
   "cell_type": "code",
   "execution_count": 6,
   "metadata": {},
   "outputs": [
    {
     "name": "stderr",
     "output_type": "stream",
     "text": [
      "C:\\Users\\arosasga\\Anaconda3\\lib\\site-packages\\pandas\\plotting\\_converter.py:129: FutureWarning: Using an implicitly registered datetime converter for a matplotlib plotting method. The converter was registered by pandas on import. Future versions of pandas will require you to explicitly register matplotlib converters.\n",
      "\n",
      "To register the converters:\n",
      "\t>>> from pandas.plotting import register_matplotlib_converters\n",
      "\t>>> register_matplotlib_converters()\n",
      "  warnings.warn(msg, FutureWarning)\n"
     ]
    },
    {
     "data": {
      "image/png": "[encoded data removed]",
      "text/plain": [
       "<Figure size 432x288 with 1 Axes>"
      ]
     },
     "metadata": {
      "needs_background": "light"
     },
     "output_type": "display_data"
    }
   ],
   "source": [
    "#Data from 2 MAR a 19 MAR, donde se puede apreciar los efectos precuarentena\n",
    "start = pd.Timestamp('2020-01-22')\n",
    "end = pd.Timestamp('2020-03-28')\n",
    "t = np.linspace(start.value, end.value, 67)\n",
    "t = pd.to_datetime(t).date\n",
    "t = np.asarray(t)\n",
    "\n",
    "country = 'Spain'\n",
    "N = 46700000 #population\n",
    "\n",
    "confirmed = df_confirmed[df_confirmed['Country/Region'] == country][df_confirmed.columns[4:]].values\n",
    "recovered = df_recovered[df_recovered['Country/Region'] == country][df_recovered.columns[4:]].values\n",
    "deaths = df_death[df_death['Country/Region'] == country][df_death.columns[4:]].values\n",
    "oficial_infected = confirmed - deaths - recovered\n",
    "real_infected = oficial_infected * 20\n",
    "subsceptible = N - confirmed * 20\n",
    "\n",
    "oficial_infected_unit = oficial_infected / N\n",
    "subsceptible_unit = subsceptible / N\n",
    "confirmed_unit = confirmed / N\n",
    "recovered_unit = recovered / N\n",
    "deaths_unit = deaths / N\n",
    "real_infected_unit = real_infected / N\n",
    "\n",
    "plt.plot(t,confirmed_unit.reshape(-1),label='Confirmed')\n",
    "plt.plot(t,deaths_unit.reshape(-1),label='Deaths')\n",
    "plt.plot(t,oficial_infected_unit.reshape(-1),label='Infected')\n",
    "plt.plot(t,recovered_unit.reshape(-1),label='Recovered')\n",
    "\n",
    "plt.legend()\n",
    "plt.grid()\n",
    "plt.show()"
   ]
  },
  {
   "cell_type": "code",
   "execution_count": 7,
   "metadata": {},
   "outputs": [
    {
     "name": "stdout",
     "output_type": "stream",
     "text": [
      "Spain\n",
      "tr = 0.33713184015232145 +- 0.14601139017035183 \n"
     ]
    },
    {
     "name": "stderr",
     "output_type": "stream",
     "text": [
      "C:\\Users\\arosasga\\Anaconda3\\lib\\site-packages\\ipykernel_launcher.py:6: RuntimeWarning: invalid value encountered in double_scalars\n",
      "  \n",
      "C:\\Users\\arosasga\\Anaconda3\\lib\\site-packages\\ipykernel_launcher.py:6: RuntimeWarning: divide by zero encountered in double_scalars\n",
      "  \n"
     ]
    }
   ],
   "source": [
    "subsceptible_unit = subsceptible_unit.reshape(-1)\n",
    "real_infected_unit = real_infected_unit.reshape(-1)\n",
    "\n",
    "tr_vector = []\n",
    "for i in range(len(subsceptible_unit)-1):\n",
    "    ds = subsceptible_unit[i+1]-subsceptible_unit[i]\n",
    "    tr = get_tr(ds, real_infected_unit[i], subsceptible_unit[i])\n",
    "    tr_vector.append(tr)\n",
    "    \n",
    "tr_vector = tr_vector[40:58] \n",
    "tr_vector.remove(-0.0)\n",
    "tr_vector.remove(1.4506544445008247)\n",
    "    \n",
    "mean = np.nanmean(tr_vector)\n",
    "std = np.nanstd(tr_vector)\n",
    "\n",
    "print('Spain')\n",
    "print('tr = {} +- {} '.format(mean,std))"
   ]
  },
  {
   "cell_type": "code",
   "execution_count": 8,
   "metadata": {},
   "outputs": [
    {
     "data": {
      "text/plain": [
       "array(['3/2/20', '3/3/20', '3/4/20', '3/5/20', '3/6/20', '3/7/20',\n",
       "       '3/8/20', '3/9/20', '3/10/20', '3/11/20', '3/12/20', '3/13/20',\n",
       "       '3/14/20', '3/15/20', '3/16/20', '3/17/20', '3/18/20', '3/19/20'],\n",
       "      dtype=object)"
      ]
     },
     "execution_count": 8,
     "metadata": {},
     "output_type": "execute_result"
    }
   ],
   "source": [
    "df_death.columns.values[4:][40:58]"
   ]
  },
  {
   "cell_type": "markdown",
   "metadata": {},
   "source": [
    "# Calculating TR in quarantine Italy, trmin"
   ]
  },
  {
   "cell_type": "markdown",
   "metadata": {},
   "source": [
    "No tenemos datos de la cuarentena en Espana aun, asi que usamos la de Italia considerando que son primo hermanos.\n",
    "Italia lleva varias semanas haciendo cuarentena severa, asi que cojemos los ultimos 6 dias para estimar el valor de tr."
   ]
  },
  {
   "cell_type": "code",
   "execution_count": 9,
   "metadata": {},
   "outputs": [
    {
     "data": {
      "image/png": "[encoded data removed]",
      "text/plain": [
       "<Figure size 432x288 with 1 Axes>"
      ]
     },
     "metadata": {
      "needs_background": "light"
     },
     "output_type": "display_data"
    }
   ],
   "source": [
    "#Data from 25 FEB a 25 MAR, donde se puede apreciar los efectos precuarentena\n",
    "start = pd.Timestamp('2020-01-22')\n",
    "end = pd.Timestamp('2020-03-28')\n",
    "t = np.linspace(start.value, end.value, 67)\n",
    "t = pd.to_datetime(t).date\n",
    "t = np.asarray(t)\n",
    "\n",
    "country = 'Italy'\n",
    "N = 60480000 #population\n",
    "\n",
    "confirmed = df_confirmed[df_confirmed['Country/Region'] == country][df_confirmed.columns[4:]].values\n",
    "recovered = df_recovered[df_recovered['Country/Region'] == country][df_recovered.columns[4:]].values\n",
    "deaths = df_death[df_death['Country/Region'] == country][df_death.columns[4:]].values\n",
    "oficial_infected = confirmed - deaths - recovered\n",
    "real_infected = oficial_infected * 15\n",
    "subsceptible = N - confirmed * 15\n",
    "\n",
    "oficial_infected_unit = oficial_infected / N\n",
    "subsceptible_unit = subsceptible / N\n",
    "confirmed_unit = confirmed / N\n",
    "recovered_unit = recovered / N\n",
    "deaths_unit = deaths / N\n",
    "\n",
    "plt.plot(t,confirmed_unit.reshape(-1),label='Confirmed')\n",
    "plt.plot(t,deaths_unit.reshape(-1),label='Deaths')\n",
    "plt.plot(t,oficial_infected_unit.reshape(-1),label='Infected')\n",
    "plt.plot(t,recovered_unit.reshape(-1),label='Recovered')\n",
    "\n",
    "plt.legend()\n",
    "plt.grid()\n",
    "plt.show()"
   ]
  },
  {
   "cell_type": "code",
   "execution_count": 10,
   "metadata": {},
   "outputs": [
    {
     "name": "stdout",
     "output_type": "stream",
     "text": [
      "Italy\n",
      "tr = 0.08579409337477494 +- 0.012009605816036112 \n"
     ]
    },
    {
     "name": "stderr",
     "output_type": "stream",
     "text": [
      "C:\\Users\\arosasga\\Anaconda3\\lib\\site-packages\\ipykernel_launcher.py:6: RuntimeWarning: invalid value encountered in double_scalars\n",
      "  \n",
      "C:\\Users\\arosasga\\Anaconda3\\lib\\site-packages\\ipykernel_launcher.py:6: RuntimeWarning: divide by zero encountered in double_scalars\n",
      "  \n"
     ]
    }
   ],
   "source": [
    "subsceptible_unit = subsceptible_unit.reshape(-1)\n",
    "real_infected_unit = real_infected_unit.reshape(-1)\n",
    "\n",
    "tr_vector = []\n",
    "for i in range(len(subsceptible_unit)-1):\n",
    "    ds = subsceptible_unit[i+1]-subsceptible_unit[i]\n",
    "    tr = get_tr(ds, real_infected_unit[i], subsceptible_unit[i])\n",
    "    tr_vector.append(tr)\n",
    "\n",
    "    \n",
    "mean = np.nanmean(tr_vector[-5:])\n",
    "std = np.nanstd(tr_vector[-5:])\n",
    "\n",
    "print('Italy')\n",
    "print('tr = {} +- {} '.format(mean,std))"
   ]
  },
  {
   "cell_type": "markdown",
   "metadata": {},
   "source": [
    "Spain before quarantine\n",
    "rr = 0.33713184015232145 +- 0.14601139017035183 \n",
    "\n",
    "Italy severe quarantine\n",
    "tr = 0.08579409337477494 +- 0.012009605816036112 "
   ]
  }
 ],
 "metadata": {
  "kernelspec": {
   "display_name": "Python 3",
   "language": "python",
   "name": "python3"
  },
  "language_info": {
   "codemirror_mode": {
    "name": "ipython",
    "version": 3
   },
   "file_extension": ".py",
   "mimetype": "text/x-python",
   "name": "python",
   "nbconvert_exporter": "python",
   "pygments_lexer": "ipython3",
   "version": "3.7.3"
  }
 },
 "nbformat": 4,
 "nbformat_minor": 2
}
